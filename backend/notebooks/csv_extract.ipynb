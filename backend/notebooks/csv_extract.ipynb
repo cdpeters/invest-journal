{
 "cells": [
  {
   "cell_type": "code",
   "execution_count": null,
   "id": "edc0c962-df00-46e6-99ea-093757c17208",
   "metadata": {},
   "outputs": [],
   "source": [
    "from pathlib import Path\n",
    "\n",
    "import pandas as pd"
   ]
  },
  {
   "cell_type": "code",
   "execution_count": null,
   "id": "74a28bf7-0a38-44c6-a22d-8a600f18074e",
   "metadata": {},
   "outputs": [],
   "source": [
    "pd.set_option(\"display.max_columns\", 100)"
   ]
  },
  {
   "cell_type": "markdown",
   "id": "623c9035-1149-4c9c-af07-1fc5104420b6",
   "metadata": {},
   "source": [
    "### Paths"
   ]
  },
  {
   "cell_type": "code",
   "execution_count": null,
   "id": "b2e3e438-5ee9-4827-8dc4-3334b9d3eed9",
   "metadata": {},
   "outputs": [],
   "source": [
    "backend_dir = Path.cwd().parent\n",
    "data_dir = backend_dir / \"data\""
   ]
  },
  {
   "cell_type": "markdown",
   "id": "8442bb91-54f1-4d50-9d98-b996733f57d7",
   "metadata": {},
   "source": [
    "## Extract\n",
    "### Read CSV"
   ]
  },
  {
   "cell_type": "code",
   "execution_count": null,
   "id": "8f7aecaf-05aa-4267-a2d2-41230bf7642c",
   "metadata": {},
   "outputs": [],
   "source": [
    "csv_path = data_dir / \"orders.csv\"\n",
    "orders_raw = pd.read_csv(csv_path)"
   ]
  },
  {
   "cell_type": "code",
   "execution_count": null,
   "id": "4264cc0c-b7f3-417e-a571-799b81495626",
   "metadata": {},
   "outputs": [],
   "source": [
    "orders_raw.head()"
   ]
  },
  {
   "cell_type": "markdown",
   "id": "a810515d-6ec1-4848-8313-2708dd3b782b",
   "metadata": {},
   "source": [
    "### Helper Functions"
   ]
  },
  {
   "cell_type": "code",
   "execution_count": null,
   "id": "29c0b865-26e4-4ee9-b1a7-55ddd0f70b83",
   "metadata": {},
   "outputs": [],
   "source": [
    "def clean_column_labels(label: str) -> str:\n",
    "    \"\"\"Modify columns labels to lowercase and underscores.\n",
    "\n",
    "    Parameters\n",
    "    ----------\n",
    "    label : str\n",
    "        Input column label.\n",
    "\n",
    "    Returns\n",
    "    -------\n",
    "    str\n",
    "        Modified column label.\n",
    "    \"\"\"\n",
    "    # Handle the Filled/Qty. label.\n",
    "    if \"/\" in label:\n",
    "        label = label.replace(\"/Qty.\", \" or qty\")\n",
    "    label_list = label.lower().split(\" \")\n",
    "    label = \"_\".join(label_list)\n",
    "    return label"
   ]
  },
  {
   "cell_type": "code",
   "execution_count": null,
   "id": "51aa5efa-9977-4cff-915a-e1bf9aaa8d4e",
   "metadata": {},
   "outputs": [],
   "source": [
    "orders = orders_raw.copy()\n",
    "orders.columns = pd.Series(orders.columns).apply(clean_column_labels)"
   ]
  },
  {
   "cell_type": "code",
   "execution_count": null,
   "id": "cd6df68c-5ead-4403-b1cc-ba8ef5f67291",
   "metadata": {},
   "outputs": [],
   "source": [
    "orders.head()"
   ]
  },
  {
   "cell_type": "code",
   "execution_count": null,
   "id": "5edfedd6-74e1-4a33-929e-23ef12c8aa1d",
   "metadata": {},
   "outputs": [],
   "source": []
  }
 ],
 "metadata": {
  "kernelspec": {
   "display_name": "invest",
   "language": "python",
   "name": "invest"
  },
  "language_info": {
   "codemirror_mode": {
    "name": "ipython",
    "version": 3
   },
   "file_extension": ".py",
   "mimetype": "text/x-python",
   "name": "python",
   "nbconvert_exporter": "python",
   "pygments_lexer": "ipython3",
   "version": "3.11.5"
  }
 },
 "nbformat": 4,
 "nbformat_minor": 5
}
