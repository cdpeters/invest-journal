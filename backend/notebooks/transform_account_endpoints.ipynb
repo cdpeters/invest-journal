{
 "cells": [
  {
   "cell_type": "markdown",
   "id": "ed7a28e4-602c-41f6-a4c1-79282356e36c",
   "metadata": {},
   "source": [
    "# Transform Stage: Account Endpoints"
   ]
  },
  {
   "cell_type": "code",
   "execution_count": null,
   "id": "11f79443-d754-47e7-ac2f-3dcc098965a5",
   "metadata": {},
   "outputs": [],
   "source": [
    "import json\n",
    "import re\n",
    "from datetime import datetime\n",
    "from pathlib import Path\n",
    "from typing import Any, Self, TypeAlias\n",
    "\n",
    "import pandas as pd\n",
    "from pandas import DataFrame\n",
    "from pydantic import BaseModel\n",
    "\n",
    "# from rich.pretty import pprint"
   ]
  },
  {
   "cell_type": "markdown",
   "id": "8f459fe7-c0e7-447c-a70b-8e1c5a139eda",
   "metadata": {},
   "source": [
    "## Pydantic Model\n",
    "### Transactions: Trades and Overrides\n",
    "#### Trades: Equities and Options\n",
    "- Raw trade structure:\n",
    "    - `amount` - float\n",
    "    - `date` - datetime\n",
    "    - `type` - str\n",
    "    - `trade` - dict\n",
    "        - `commission` - float\n",
    "        - `description` - str\n",
    "        - `price` - float\n",
    "        - `quantity` - float\n",
    "        - `symbol` - str\n",
    "        - `trade_type` - str\n",
    "\n",
    "- `RawTradeKey` model: the `trade` key from above and its associated fields:\n",
    "\n",
    "| RawTradeKey   | type  |\n",
    "| ------------- | ----- |\n",
    "| `commission`  | float |\n",
    "| `description` | str   |\n",
    "| `price`       | float |\n",
    "| `quantity`    | float |\n",
    "| `symbol`      | str   |\n",
    "| `trade_type`  | str   |\n",
    "\n",
    "- `RawTrade`: the full model of raw transactions of type 'trade'. Note, in the implementation there is an additional `BaseTransaction` model that `RawTrade` inherits from. That model is left out for brevity.\n",
    "- `FlatTrade` is the flattened version of `RawTrade`. It is not instantiated via the `BaseModel` method `model_validate()` directly, instead, it is instantiated via its class method `flatten_raw_and_validate()` which first flattens the object and then makes a call to `model_validate()`.\n",
    "\n",
    "| RawTrade | type        | FlatTrade     | type     |\n",
    "| -------- | ----------- | ------------- | -------- |\n",
    "| `amount` | str         | `date`        | datetime |\n",
    "| `date`   | datetime    | `trade_type`  | str      |\n",
    "| `type`   | str         | `description` | str      |\n",
    "| `trade`  | RawTradeKey | `symbol`      | str      |\n",
    "|          |             | `price`       | float    |\n",
    "|          |             | `quantity`    | float    |\n",
    "|          |             | `amount`      | float    |\n",
    "|          |             | `commission`  | float    |\n",
    "\n",
    "#### Overrides\n",
    "- Raw override structure:\n",
    "    - `amount` - float\n",
    "    - `date` - datetime\n",
    "    - `type` - str\n",
    "    - `option` - dict\n",
    "        - `option_type` - str\n",
    "        - `description` - str\n",
    "        - `quantity` - float\n",
    "\n",
    "- `RawOptionKey` model: the `option` key from above and its associated fields:\n",
    "\n",
    "| RawOptionKey  | type  |\n",
    "| ------------- | ----- |\n",
    "| `option_type` | str   |\n",
    "| `description` | str   |\n",
    "| `quantity`    | float |\n",
    "\n",
    "- `RawOverride`: the full model of raw transactions of type 'option'. Note, in the implementation there is an additional `BaseTransaction` model that `RawOption` inherits from. That model is left out for brevity.\n",
    "- `FlatOverride` is the flattened version of `RawOption`. It is not instantiated via the `BaseModel` method `model_validate()` directly, instead, it is instantiated via its class method `flatten_raw_and_validate()` which first flattens the object and then makes a call to `model_validate()`.\n",
    "\n",
    "| RawOverride | type         | FlatOverride  | type     |\n",
    "| ----------- | ------------ | ------------- | -------- |\n",
    "| `amount`    | str          | `date`        | datetime |\n",
    "| `date`      | datetime     | `option_type` | str      |\n",
    "| `type`      | str          | `description` | str      |\n",
    "| `option`    | RawOptionKey | `quantity`    | float    |\n",
    "|             |              | `amount`      | float    |"
   ]
  },
  {
   "cell_type": "code",
   "execution_count": null,
   "id": "b5391738-5cc3-4ec8-ab69-6fd5bc154c3c",
   "metadata": {},
   "outputs": [],
   "source": [
    "# Model dictionaries that occur in both the trade and override type transactions.\n",
    "\n",
    "\n",
    "class RawTradeKey(BaseModel):\n",
    "    \"\"\"Raw trade key's values.\"\"\"\n",
    "\n",
    "    commission: float\n",
    "    description: str\n",
    "    price: float\n",
    "    quantity: float\n",
    "    symbol: str\n",
    "    trade_type: str\n",
    "\n",
    "\n",
    "class RawOptionKey(BaseModel):\n",
    "    \"\"\"Raw option key's values.\"\"\"\n",
    "\n",
    "    option_type: str\n",
    "    description: str\n",
    "    quantity: float\n",
    "\n",
    "\n",
    "class BaseTransaction(BaseModel):\n",
    "    \"\"\"Model the base form common to all transactions.\"\"\"\n",
    "\n",
    "    amount: float\n",
    "    date: datetime\n",
    "    type: str\n",
    "\n",
    "\n",
    "class RawTrade(BaseTransaction):\n",
    "    \"\"\"Model the raw transaction of type 'trade' which includes equities and options.\"\"\"\n",
    "\n",
    "    trade: RawTradeKey\n",
    "\n",
    "\n",
    "class RawOverride(BaseTransaction):\n",
    "    \"\"\"Model the raw transaction of type 'option' labeled as an override.\"\"\"\n",
    "\n",
    "    option: RawOptionKey\n",
    "\n",
    "\n",
    "class FlatTrade(BaseModel):\n",
    "    \"\"\"Model the flattened trade object constructed from the raw form.\"\"\"\n",
    "\n",
    "    date: datetime\n",
    "    trade_type: str\n",
    "    description: str\n",
    "    symbol: str\n",
    "    price: float\n",
    "    quantity: float\n",
    "    amount: float\n",
    "    commission: float\n",
    "\n",
    "    @classmethod\n",
    "    def flatten_raw_and_validate(cls, transaction: RawTrade) -> Self:\n",
    "        \"\"\"Flatten the raw form of a transaction and validate with pydantic model.\n",
    "\n",
    "        Parameters\n",
    "        ----------\n",
    "        transaction : RawTrade\n",
    "            Raw transaction object of type 'trade'.\n",
    "\n",
    "        Returns\n",
    "        -------\n",
    "        Self\n",
    "            An instance of the class with validated data.\n",
    "        \"\"\"\n",
    "        # Exclude the `trade` key, this is handled in the following `data.update()` call.\n",
    "        data = transaction.model_dump(exclude={\"trade\"})\n",
    "        data.update(transaction.trade.model_dump())\n",
    "        return cls.model_validate(data)\n",
    "\n",
    "\n",
    "class FlatOverride(BaseModel):\n",
    "    \"\"\"Model the flattened override object constructed from the raw form.\"\"\"\n",
    "\n",
    "    date: datetime\n",
    "    option_type: str\n",
    "    description: str\n",
    "    quantity: float\n",
    "    amount: float\n",
    "\n",
    "    @classmethod\n",
    "    def flatten_raw_and_validate(cls, transaction: RawOverride) -> Self:\n",
    "        \"\"\"Flatten the raw form of a transaction and validate with pydantic model.\n",
    "\n",
    "        Parameters\n",
    "        ----------\n",
    "        transaction : RawOverride\n",
    "            Raw transaction object of type 'option' labeled as an ovrride.\n",
    "\n",
    "        Returns\n",
    "        -------\n",
    "        Self\n",
    "            An instance of the class with validated data.\n",
    "        \"\"\"\n",
    "        # Exclude the `option` key, this is handled in the following `data.update()` call.\n",
    "        data = transaction.model_dump(exclude={\"option\"})\n",
    "        data.update(transaction.option.model_dump())\n",
    "        return cls.model_validate(data)"
   ]
  },
  {
   "cell_type": "markdown",
   "id": "bff25dc1-7c25-47c3-8b78-53678f5652c9",
   "metadata": {},
   "source": [
    "## Helper Functions\n",
    "### Read API Data"
   ]
  },
  {
   "cell_type": "code",
   "execution_count": null,
   "id": "04890972-a8fa-4069-92ca-905e8ba33872",
   "metadata": {},
   "outputs": [],
   "source": [
    "def read_api_data(endpoint_name: str, data_dir: Path) -> dict[str, Any]:\n",
    "    \"\"\"Read an API response's JSON from file.\n",
    "\n",
    "    Parameters\n",
    "    ----------\n",
    "    endpoint_name : str\n",
    "        API endpoint name.\n",
    "    data_dir : Path\n",
    "        Path to the data directory for storing the output JSON file.\n",
    "\n",
    "    Returns\n",
    "    -------\n",
    "    dict[Any, Any]\n",
    "        JSON returned as a dict.\n",
    "    \"\"\"\n",
    "    # location of the input JSON file.\n",
    "    file_path = data_dir.joinpath(f\"{endpoint_name}.json\")\n",
    "    with open(file_path, \"r\") as f:\n",
    "        data = json.load(f)\n",
    "    return data"
   ]
  },
  {
   "cell_type": "markdown",
   "id": "400aba8b-56b9-4847-b208-a6d2c0374771",
   "metadata": {},
   "source": [
    "### Split History of Transactions"
   ]
  },
  {
   "cell_type": "code",
   "execution_count": null,
   "id": "a01a2afe-cc21-4fd7-aa52-50265d2af63d",
   "metadata": {},
   "outputs": [],
   "source": [
    "# Transaction container.\n",
    "TC: TypeAlias = list[dict[str, Any]]\n",
    "# Validated transaction container.\n",
    "VTC: TypeAlias = dict[str, TC]\n",
    "\n",
    "\n",
    "def split_history_and_validate(history_raw: dict[str, Any]) -> tuple[VTC, TC]:\n",
    "    \"\"\"Split transactions based on transaction type and validate using the data models.\n",
    "\n",
    "    Transaction types are as follows:\n",
    "    - trades: equities and options and overrides (transactions external to tradier.com)\n",
    "    - other (remaining transactions that do not fit the category above)\n",
    "\n",
    "    Parameters\n",
    "    ----------\n",
    "    history_raw : dict[str, Any]\n",
    "        Raw data from history endpoint.\n",
    "\n",
    "    Returns\n",
    "    -------\n",
    "    tuple[VTC, TC]\n",
    "        Either a validated (VTC) or non-validated (TC) transaction container for each transaction type.\n",
    "    \"\"\"\n",
    "    trades: VTC = {\n",
    "        \"equity_raw\": [],\n",
    "        \"equity\": [],\n",
    "        \"options_raw\": [],\n",
    "        \"options\": [],\n",
    "        \"overrides_raw\": [],\n",
    "        \"overrides\": [],\n",
    "    }\n",
    "    other_raw: TC = []\n",
    "\n",
    "    for transaction in history_raw:\n",
    "        if transaction[\"type\"] == \"trade\":\n",
    "            raw_transaction = RawTrade.model_validate(transaction)\n",
    "            flat_transaction = FlatTrade.flatten_raw_and_validate(raw_transaction)\n",
    "            if transaction[\"trade\"][\"trade_type\"] == \"equity\":\n",
    "                trades[\"equity_raw\"].append(raw_transaction)\n",
    "                trades[\"equity\"].append(flat_transaction)\n",
    "            elif transaction[\"trade\"][\"trade_type\"] == \"option\":\n",
    "                trades[\"options_raw\"].append(raw_transaction)\n",
    "                trades[\"options\"].append(flat_transaction)\n",
    "        elif transaction[\"type\"] == \"option\":\n",
    "            raw_transaction = RawOverride.model_validate(transaction)\n",
    "            flat_transaction = FlatOverride.flatten_raw_and_validate(raw_transaction)\n",
    "            trades[\"overrides_raw\"].append(raw_transaction)\n",
    "            trades[\"overrides\"].append(flat_transaction)\n",
    "        else:\n",
    "            other_raw.append(transaction)\n",
    "    return trades, other_raw"
   ]
  },
  {
   "cell_type": "markdown",
   "id": "62ad01df-6f28-4aef-b459-4612935ef4ca",
   "metadata": {},
   "source": [
    "### Create Equity DataFrame"
   ]
  },
  {
   "cell_type": "code",
   "execution_count": null,
   "id": "477616e2-6ef5-4a37-98c7-c55bd5c45565",
   "metadata": {},
   "outputs": [],
   "source": [
    "def create_equity_dataframe(transactions: list[FlatTrade]) -> DataFrame:\n",
    "    \"\"\"Create and clean a DataFrame containing equity trades.\n",
    "\n",
    "    Parameters\n",
    "    ----------\n",
    "    transactions : list[FlatTransaction]\n",
    "        Equity trade transactions.\n",
    "\n",
    "    Returns\n",
    "    -------\n",
    "    DataFrame\n",
    "        Resulting equity DataFrame.\n",
    "    \"\"\"\n",
    "    equity_dump = [transaction.model_dump() for transaction in transactions]\n",
    "    equity = pd.DataFrame(equity_dump)\n",
    "\n",
    "    # Convert to more optimal data types.\n",
    "    equity[\"trade_type\"] = equity[\"trade_type\"].astype(pd.StringDtype())\n",
    "    equity[\"description\"] = equity[\"description\"].astype(pd.StringDtype())\n",
    "    equity[\"symbol\"] = equity[\"symbol\"].astype(pd.StringDtype())\n",
    "\n",
    "    # Add a calculated amount column to compare to the raw `amount` column.\n",
    "    equity[\"calc_amount\"] = equity[\"price\"] * equity[\"quantity\"] + equity[\"commission\"]\n",
    "    return equity"
   ]
  },
  {
   "cell_type": "markdown",
   "id": "11edcefb-7ec6-475a-b1d9-c83f877d0dbb",
   "metadata": {},
   "source": [
    "### Create Options DataFrame"
   ]
  },
  {
   "cell_type": "code",
   "execution_count": null,
   "id": "feb7826e-ce65-431e-8b50-195b2458979e",
   "metadata": {},
   "outputs": [],
   "source": [
    "def create_options_dataframe(transactions: list[FlatTrade]) -> DataFrame:\n",
    "    \"\"\"Create and clean a DataFrame containing options trades.\n",
    "\n",
    "    Parameters\n",
    "    ----------\n",
    "    transactions : list[FlatTransaction]\n",
    "        Options trade transactions.\n",
    "\n",
    "    Returns\n",
    "    -------\n",
    "    DataFrame\n",
    "        Resulting options DataFrame.\n",
    "    \"\"\"\n",
    "    options_dump = [transaction.model_dump() for transaction in transactions]\n",
    "    options = pd.DataFrame(options_dump)\n",
    "\n",
    "    # Convert to more optimal data types.\n",
    "    options[\"trade_type\"] = options[\"trade_type\"].astype(pd.StringDtype())\n",
    "    options[\"description\"] = options[\"description\"].astype(pd.StringDtype())\n",
    "    options[\"symbol\"] = options[\"symbol\"].astype(pd.StringDtype())\n",
    "\n",
    "    # Rename the `symbol` column. A symbol column will be derived from the `description` column.\n",
    "    options = options.rename(columns={\"symbol\": \"transaction_symbol\"})\n",
    "\n",
    "    # Process the `description` column by splitting the string and creating new columns.\n",
    "    description_split = options[\"description\"].str.split(expand=True)\n",
    "    description_split = description_split.drop(2, axis=1)\n",
    "    description_split = description_split.rename(\n",
    "        columns={0: \"multi_leg_type\", 1: \"symbol\", 3: \"multi_leg_amount\"}\n",
    "    )\n",
    "    description_split[\"multi_leg_type\"] = description_split[\n",
    "        \"multi_leg_type\"\n",
    "    ].str.lower()\n",
    "    description_split[\"multi_leg_amount\"] = description_split[\n",
    "        \"multi_leg_amount\"\n",
    "    ].astype(\"float64\")\n",
    "\n",
    "    options = pd.concat([options, description_split], axis=1)\n",
    "\n",
    "    options[\"multi_leg_position\"] = \"long\"\n",
    "    options.loc[options[\"quantity\"] < 0, \"multi_leg_position\"] = \"short\"\n",
    "    options[\"multi_leg_position\"] = options[\"multi_leg_position\"].astype(\n",
    "        pd.StringDtype()\n",
    "    )\n",
    "\n",
    "    # Reorder the columns with numeric columns at the end.\n",
    "    options_cols = [\n",
    "        \"date\",\n",
    "        \"trade_type\",\n",
    "        \"symbol\",\n",
    "        \"transaction_symbol\",\n",
    "        \"price\",\n",
    "        \"quantity\",\n",
    "        \"amount\",\n",
    "        \"commission\",\n",
    "        \"multi_leg_position\",\n",
    "        \"multi_leg_type\",\n",
    "        \"multi_leg_amount\",\n",
    "    ]\n",
    "    options = options[options_cols]\n",
    "\n",
    "    options = options.sort_values(by=[\"date\", \"symbol\"], ascending=[False, True])\n",
    "    options = options.reset_index(drop=True)\n",
    "\n",
    "    return options"
   ]
  },
  {
   "cell_type": "markdown",
   "id": "2cc1026c-85dc-4fb1-bd62-26b1c636d5f3",
   "metadata": {},
   "source": [
    "### Create Overrides DataFrame"
   ]
  },
  {
   "cell_type": "markdown",
   "id": "26e6ebc6-d9da-48c2-ad20-52d21344e65a",
   "metadata": {},
   "source": [
    "___"
   ]
  },
  {
   "cell_type": "markdown",
   "id": "13377b19-2ffa-456b-b693-7a4bd2cd5315",
   "metadata": {},
   "source": [
    "## Load Data\n",
    "### Paths"
   ]
  },
  {
   "cell_type": "code",
   "execution_count": null,
   "id": "2391a697-4659-4b73-b7ec-b51e16b3d86b",
   "metadata": {},
   "outputs": [],
   "source": [
    "backend_dir = Path.cwd().parent\n",
    "data_dir = backend_dir / \"data\""
   ]
  },
  {
   "cell_type": "markdown",
   "id": "e7e40439-c546-4232-9afb-bcc197ce55c4",
   "metadata": {},
   "source": [
    "### Load"
   ]
  },
  {
   "cell_type": "code",
   "execution_count": null,
   "id": "8726d368-8ea7-44e2-b0ac-ca4e8fd568a1",
   "metadata": {},
   "outputs": [],
   "source": [
    "history_raw = read_api_data(endpoint_name=\"history\", data_dir=data_dir)\n",
    "history_raw = history_raw[\"history\"][\"event\"]"
   ]
  },
  {
   "cell_type": "markdown",
   "id": "bbba72de-7e11-4f6a-a3ff-2fce86532376",
   "metadata": {},
   "source": [
    "## Transform\n",
    "### Split Transactions and Validate with Pydantic Models\n",
    "Source Variable:\n",
    "- `history_raw`: raw history of all transactions\n",
    "\n",
    "Resulting Validated Data Structures:\n",
    "- `trades` - contains 7 keys:\n",
    "    - `equity_raw`\n",
    "    - `equity`\n",
    "    - `options_raw`\n",
    "    - `options`\n",
    "    - `overrides_raw`\n",
    "    - `overrides`\n",
    "    - `exercised` - TODO\n",
    "\n",
    "> *note: keys with the suffix `_raw` match the shape of the data returned by the API. Non-suffixed keys are flattened versions ready for DataFrame creation.*\n",
    "\n",
    "Additional Non-Validated Data Structure:\n",
    "- `other_raw` - any remaining transactions that don't fit the categories above. This structure does not contain anything modeled by pydantic."
   ]
  },
  {
   "cell_type": "code",
   "execution_count": null,
   "id": "41c3d88f-7435-4342-8e5b-1ba734b51f60",
   "metadata": {},
   "outputs": [],
   "source": [
    "trades, other_raw = split_history_and_validate(history_raw)"
   ]
  },
  {
   "cell_type": "code",
   "execution_count": null,
   "id": "bb11ac63-c6b6-4db7-81fd-eb4b3a983ced",
   "metadata": {},
   "outputs": [],
   "source": [
    "print(\"Number of each transaction type\")\n",
    "print(f\"Equities:    {len(trades['equity'])}\")\n",
    "print(f\"Options:   {len(trades['options'])}\")\n",
    "print(f\"Overrides: {len(trades['overrides'])}\")\n",
    "print(f\"Other:     {len(other_raw)}\")"
   ]
  },
  {
   "cell_type": "markdown",
   "id": "ba3d849b-a156-4119-93a4-6a8f577c6aaa",
   "metadata": {},
   "source": [
    "### Create DataFrames\n",
    "#### Equities"
   ]
  },
  {
   "cell_type": "code",
   "execution_count": null,
   "id": "9d574181-e6be-4f65-a32f-6adc7274b85a",
   "metadata": {},
   "outputs": [],
   "source": [
    "equity = create_equity_dataframe(trades[\"equity\"])\n",
    "equity.info()"
   ]
  },
  {
   "cell_type": "code",
   "execution_count": null,
   "id": "78668e43-8873-4be1-874b-4aa9bd6ccd37",
   "metadata": {},
   "outputs": [],
   "source": [
    "equity.head()"
   ]
  },
  {
   "cell_type": "markdown",
   "id": "22e76c71-e91f-4eb1-9550-3cef39c6aee9",
   "metadata": {},
   "source": [
    "#### Options"
   ]
  },
  {
   "cell_type": "code",
   "execution_count": null,
   "id": "0ce740e0-c61d-4af2-839b-95baacc70c81",
   "metadata": {},
   "outputs": [],
   "source": [
    "options = create_options_dataframe(trades[\"options\"])\n",
    "options.info()"
   ]
  },
  {
   "cell_type": "code",
   "execution_count": null,
   "id": "18b3dbdd-476e-4d8b-a5f5-47bda0bc35a8",
   "metadata": {},
   "outputs": [],
   "source": [
    "options.head()"
   ]
  },
  {
   "cell_type": "markdown",
   "id": "cb9a9516-83f3-4409-827b-7a2371f57468",
   "metadata": {},
   "source": [
    "#### Overrides"
   ]
  },
  {
   "cell_type": "code",
   "execution_count": null,
   "id": "321411fa-b5d0-4b84-b082-b4950c4deb66",
   "metadata": {},
   "outputs": [],
   "source": [
    "transaction_symbol_pattern = re.compile(r\"([A-Z]+)[0-9]+([A-Z])([0-9]+)\")\n",
    "\n",
    "overrides_dump = [transaction.model_dump() for transaction in trades[\"overrides\"]]\n",
    "overrides = pd.DataFrame(overrides_dump)\n",
    "\n",
    "# Convert to more optimal data types.\n",
    "overrides[\"option_type\"] = overrides[\"option_type\"].astype(pd.StringDtype())\n",
    "overrides[\"description\"] = overrides[\"description\"].astype(pd.StringDtype())\n",
    "\n",
    "overrides[\"multi_leg_position\"] = \"long\"\n",
    "overrides.loc[overrides[\"quantity\"] < 0, \"multi_leg_position\"] = \"short\"\n",
    "overrides[\"multi_leg_position\"] = overrides[\"multi_leg_position\"].astype(\n",
    "    pd.StringDtype()\n",
    ")\n",
    "\n",
    "overrides.info()"
   ]
  },
  {
   "cell_type": "code",
   "execution_count": null,
   "id": "b84cd9b5-f131-4274-9f03-79cf03ade4a9",
   "metadata": {},
   "outputs": [],
   "source": [
    "overrides.head()"
   ]
  },
  {
   "cell_type": "code",
   "execution_count": null,
   "id": "2575b469-a004-4f9d-867b-2a61b36c2b30",
   "metadata": {},
   "outputs": [],
   "source": [
    "description_split = overrides[\"description\"].str.extract(\n",
    "    transaction_symbol_pattern, expand=True\n",
    ")\n",
    "description_split.head()\n",
    "description_split = description_split.rename(\n",
    "    columns={0: \"symbol\", 1: \"multi_leg_type\", 2: \"multi_leg_amount\"}\n",
    ")"
   ]
  },
  {
   "cell_type": "code",
   "execution_count": null,
   "id": "5e6d62c5-050b-4026-bf20-d60405855bac",
   "metadata": {},
   "outputs": [],
   "source": []
  }
 ],
 "metadata": {
  "kernelspec": {
   "display_name": "invest",
   "language": "python",
   "name": "invest"
  },
  "language_info": {
   "codemirror_mode": {
    "name": "ipython",
    "version": 3
   },
   "file_extension": ".py",
   "mimetype": "text/x-python",
   "name": "python",
   "nbconvert_exporter": "python",
   "pygments_lexer": "ipython3",
   "version": "3.11.5"
  }
 },
 "nbformat": 4,
 "nbformat_minor": 5
}
