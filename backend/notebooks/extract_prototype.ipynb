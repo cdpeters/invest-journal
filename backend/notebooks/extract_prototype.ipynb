{
 "cells": [
  {
   "cell_type": "code",
   "execution_count": 1,
   "id": "f0da12f7-d9c7-43f7-bb3d-8d0b1693aa58",
   "metadata": {},
   "outputs": [],
   "source": [
    "import json\n",
    "import tomllib\n",
    "from pathlib import Path\n",
    "from typing import Any\n",
    "\n",
    "import httpx"
   ]
  },
  {
   "cell_type": "markdown",
   "id": "6a9e7096-d540-49f9-b580-5587e5c4b474",
   "metadata": {},
   "source": [
    "### Read/Write Helper Functions\n",
    "#### Write API Data Function"
   ]
  },
  {
   "cell_type": "code",
   "execution_count": 2,
   "id": "e8bb645a-9a81-4f83-b59e-85d43e1b2a2d",
   "metadata": {},
   "outputs": [],
   "source": [
    "def write_api_data(\n",
    "    endpoint_name: str, response: httpx.Response, data_dir: Path\n",
    ") -> None:\n",
    "    \"\"\"Write an API response's JSON to file.\n",
    "\n",
    "    Parameters\n",
    "    ----------\n",
    "    endpoint_name : str\n",
    "        API endpoint name.\n",
    "    response : httpx.Response\n",
    "        Response returned from the GET request.\n",
    "    data_dir : Path\n",
    "        Path to the data directory for storing the output JSON file.\n",
    "    \"\"\"\n",
    "    # location of the output JSON file.\n",
    "    file_path = data_dir.joinpath(f\"{endpoint_name}.json\")\n",
    "    with open(file_path, \"w\") as f:\n",
    "        json.dump(response.json(), f)"
   ]
  },
  {
   "cell_type": "markdown",
   "id": "079a4130-a24c-44bb-9aa6-34875ef010f5",
   "metadata": {},
   "source": [
    "#### Read API Data Function"
   ]
  },
  {
   "cell_type": "code",
   "execution_count": 3,
   "id": "04890972-a8fa-4069-92ca-905e8ba33872",
   "metadata": {},
   "outputs": [],
   "source": [
    "def read_api_data(endpoint_name: str, data_dir: Path) -> dict[Any, Any]:\n",
    "    \"\"\"Read an API response's JSON from file.\n",
    "\n",
    "    Parameters\n",
    "    ----------\n",
    "    endpoint_name : str\n",
    "        API endpoint name.\n",
    "    data_dir : Path\n",
    "        Path to the data directory for storing the output JSON file.\n",
    "\n",
    "    Returns\n",
    "    -------\n",
    "    dict[Any, Any]\n",
    "        JSON returned as a dict.\n",
    "    \"\"\"\n",
    "    # location of the input JSON file.\n",
    "    file_path = data_dir.joinpath(f\"{endpoint_name}.json\")\n",
    "    with open(file_path, \"r\") as f:\n",
    "        data = json.load(f)\n",
    "    return data"
   ]
  },
  {
   "cell_type": "markdown",
   "id": "0cf65973-6481-4126-8c7d-1a18185752c4",
   "metadata": {},
   "source": [
    "# Extract\n",
    "### Paths"
   ]
  },
  {
   "cell_type": "code",
   "execution_count": 4,
   "id": "2391a697-4659-4b73-b7ec-b51e16b3d86b",
   "metadata": {},
   "outputs": [],
   "source": [
    "backend_dir = Path.cwd().parent\n",
    "data_dir = backend_dir / \"data\""
   ]
  },
  {
   "cell_type": "markdown",
   "id": "6da83773-0b97-4417-9065-667aea3b9400",
   "metadata": {},
   "source": [
    "### Read Secrets File Containing API Access Token and Account ID"
   ]
  },
  {
   "cell_type": "code",
   "execution_count": 5,
   "id": "71c5b4c3-23ed-4448-8fd8-3757e22e5b0b",
   "metadata": {},
   "outputs": [],
   "source": [
    "with open(backend_dir / \"secrets.toml\", \"rb\") as f:\n",
    "    secrets = tomllib.load(f)"
   ]
  },
  {
   "cell_type": "markdown",
   "id": "9c5c3331-d460-47e2-a480-a8234d1b095f",
   "metadata": {},
   "source": [
    "### Build API Request Data"
   ]
  },
  {
   "cell_type": "code",
   "execution_count": 6,
   "id": "04625412-4ba4-4f30-8344-be9929ffdbfc",
   "metadata": {},
   "outputs": [],
   "source": [
    "# Base URL for the tradier API.\n",
    "base_url = \"https://api.tradier.com/v1\"\n",
    "# Headers with access token.\n",
    "headers = {\n",
    "    \"Authorization\": f\"Bearer {secrets['tradier']['access_token']}\",\n",
    "    \"Accept\": \"application/json\",\n",
    "}\n",
    "# Account information fragment.\n",
    "account_fragment = f\"/accounts/{secrets['tradier']['account_id']}\"\n",
    "# Fragments of account endpoints.\n",
    "endpoint_fragments = {\n",
    "    \"user_profile\": \"/user/profile\",\n",
    "    \"balances\": f\"{account_fragment}/balances\",\n",
    "    \"positions\": f\"{account_fragment}/positions\",\n",
    "    \"history\": f\"{account_fragment}/history\",\n",
    "    \"gain_loss\": f\"{account_fragment}/gainloss\",\n",
    "    \"orders\": f\"{account_fragment}/orders\",\n",
    "}\n",
    "\n",
    "# Request data with url and headers for each request.\n",
    "request_data: dict[str, dict[str, Any]] = {}\n",
    "for endpoint_name, endpoint in endpoint_fragments.items():\n",
    "    request_data[endpoint_name] = {\n",
    "        \"url\": f\"{base_url}{endpoint}\",\n",
    "        \"headers\": headers,\n",
    "    }\n",
    "# Add any parameters if necessary.\n",
    "request_data[\"history\"][\"params\"] = {\"limit\": 1000}\n",
    "request_data[\"gain_loss\"][\"params\"] = {\"limit\": 1000}"
   ]
  },
  {
   "cell_type": "markdown",
   "id": "896ed0b1-52d8-43b5-a525-56eb5b241068",
   "metadata": {},
   "source": [
    "### Request Data from API"
   ]
  },
  {
   "cell_type": "code",
   "execution_count": 7,
   "id": "11e0360a-b7b1-417d-8b0a-a02f476747ff",
   "metadata": {},
   "outputs": [],
   "source": [
    "for endpoint_name, request in request_data.items():\n",
    "    response = httpx.get(**request)\n",
    "    write_api_data(endpoint_name, response, data_dir)"
   ]
  }
 ],
 "metadata": {
  "kernelspec": {
   "display_name": "invest",
   "language": "python",
   "name": "invest"
  },
  "language_info": {
   "codemirror_mode": {
    "name": "ipython",
    "version": 3
   },
   "file_extension": ".py",
   "mimetype": "text/x-python",
   "name": "python",
   "nbconvert_exporter": "python",
   "pygments_lexer": "ipython3",
   "version": "3.11.5"
  }
 },
 "nbformat": 4,
 "nbformat_minor": 5
}
