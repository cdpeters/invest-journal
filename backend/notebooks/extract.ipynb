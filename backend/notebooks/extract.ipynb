{
 "cells": [
  {
   "cell_type": "code",
   "execution_count": null,
   "id": "f0da12f7-d9c7-43f7-bb3d-8d0b1693aa58",
   "metadata": {},
   "outputs": [],
   "source": [
    "import json\n",
    "import re\n",
    "import tomllib\n",
    "from pathlib import Path\n",
    "from typing import Any\n",
    "\n",
    "import httpx\n",
    "\n",
    "# from rich.pretty import pprint"
   ]
  },
  {
   "cell_type": "markdown",
   "id": "6a9e7096-d540-49f9-b580-5587e5c4b474",
   "metadata": {},
   "source": [
    "### Helper Functions\n",
    "#### Write API Data Function"
   ]
  },
  {
   "cell_type": "code",
   "execution_count": null,
   "id": "e8bb645a-9a81-4f83-b59e-85d43e1b2a2d",
   "metadata": {},
   "outputs": [],
   "source": [
    "def write_api_data(\n",
    "    endpoint_name: str, response: httpx.Response, data_dir: Path\n",
    ") -> None:\n",
    "    \"\"\"Write an API response's JSON to file.\n",
    "\n",
    "    Parameters\n",
    "    ----------\n",
    "    endpoint_name : str\n",
    "        API endpoint name.\n",
    "    response : httpx.Response\n",
    "        Response returned from the GET request.\n",
    "    data_dir : Path\n",
    "        Path to the data directory for storing the output JSON file.\n",
    "    \"\"\"\n",
    "    # location of the output JSON file.\n",
    "    file_path = data_dir.joinpath(f\"{endpoint_name}.json\")\n",
    "    with open(file_path, \"w\") as f:\n",
    "        json.dump(response.json(), f)"
   ]
  },
  {
   "cell_type": "markdown",
   "id": "0cf65973-6481-4126-8c7d-1a18185752c4",
   "metadata": {},
   "source": [
    "# Extract\n",
    "### Paths"
   ]
  },
  {
   "cell_type": "code",
   "execution_count": null,
   "id": "2391a697-4659-4b73-b7ec-b51e16b3d86b",
   "metadata": {},
   "outputs": [],
   "source": [
    "backend_dir = Path.cwd().parent\n",
    "data_dir = backend_dir / \"data\""
   ]
  },
  {
   "cell_type": "markdown",
   "id": "6da83773-0b97-4417-9065-667aea3b9400",
   "metadata": {},
   "source": [
    "### Read Secrets File Containing API Access Token and Account ID"
   ]
  },
  {
   "cell_type": "code",
   "execution_count": null,
   "id": "71c5b4c3-23ed-4448-8fd8-3757e22e5b0b",
   "metadata": {},
   "outputs": [],
   "source": [
    "with open(backend_dir / \"secrets.toml\", \"rb\") as f:\n",
    "    secrets = tomllib.load(f)"
   ]
  },
  {
   "cell_type": "markdown",
   "id": "f0b4b7fe-0eba-428b-a14b-6a97c4795b2e",
   "metadata": {},
   "source": [
    "### Base URL and Headers"
   ]
  },
  {
   "cell_type": "code",
   "execution_count": null,
   "id": "0dbc106a-0ed5-4625-a073-fe66c21a0810",
   "metadata": {},
   "outputs": [],
   "source": [
    "# Base URL for the tradier API.\n",
    "base_url = \"https://api.tradier.com/v1\"\n",
    "# Headers with access token.\n",
    "headers = {\n",
    "    \"Authorization\": f\"Bearer {secrets['tradier']['access_token']}\",\n",
    "    \"Accept\": \"application/json\",\n",
    "}"
   ]
  },
  {
   "cell_type": "markdown",
   "id": "9c5c3331-d460-47e2-a480-a8234d1b095f",
   "metadata": {},
   "source": [
    "## Account Endpoints\n",
    "### Build API Request Data"
   ]
  },
  {
   "cell_type": "code",
   "execution_count": null,
   "id": "325c6f4a-581d-4331-b08d-c9358535464a",
   "metadata": {},
   "outputs": [],
   "source": [
    "# Account information fragment.\n",
    "account_fragment = f\"/accounts/{secrets['tradier']['account_id']}\"\n",
    "# Fragments of account endpoints.\n",
    "endpoint_fragments = {\n",
    "    \"user_profile\": \"/user/profile\",\n",
    "    \"balances\": f\"{account_fragment}/balances\",\n",
    "    \"positions\": f\"{account_fragment}/positions\",\n",
    "    \"history\": f\"{account_fragment}/history\",\n",
    "    \"gain_loss\": f\"{account_fragment}/gainloss\",\n",
    "    \"orders\": f\"{account_fragment}/orders\",\n",
    "}\n",
    "\n",
    "# Request data with url and headers for each request.\n",
    "request_data: dict[str, dict[str, Any]] = {}\n",
    "for endpoint_name, endpoint in endpoint_fragments.items():\n",
    "    request_data[endpoint_name] = {\n",
    "        \"url\": f\"{base_url}{endpoint}\",\n",
    "        \"headers\": headers,\n",
    "    }\n",
    "# Add any parameters if necessary.\n",
    "request_data[\"history\"][\"params\"] = {\"limit\": 1000}\n",
    "request_data[\"gain_loss\"][\"params\"] = {\"limit\": 1000}"
   ]
  },
  {
   "cell_type": "markdown",
   "id": "896ed0b1-52d8-43b5-a525-56eb5b241068",
   "metadata": {},
   "source": [
    "### Request Data from API"
   ]
  },
  {
   "cell_type": "code",
   "execution_count": null,
   "id": "11e0360a-b7b1-417d-8b0a-a02f476747ff",
   "metadata": {},
   "outputs": [],
   "source": [
    "for endpoint_name, request in request_data.items():\n",
    "    response = httpx.get(**request)\n",
    "    if endpoint_name == \"history\":\n",
    "        history = response.json()\n",
    "    write_api_data(endpoint_name, response, data_dir)"
   ]
  },
  {
   "cell_type": "markdown",
   "id": "be14f2f7-001b-4868-a8d4-6a6103f05028",
   "metadata": {},
   "source": [
    "### Collect Symbol Descriptions\n",
    "#### Set of Stock Symbols"
   ]
  },
  {
   "cell_type": "code",
   "execution_count": null,
   "id": "39e21009-b6f6-481f-b537-de0d685b482e",
   "metadata": {},
   "outputs": [],
   "source": [
    "symbol_pattern = r\"^[A-Z]+(?![a-z])\"\n",
    "symbols = set()\n",
    "for transaction in history[\"history\"][\"event\"]:\n",
    "    if transaction.get(\"trade\"):\n",
    "        match = re.match(symbol_pattern, transaction[\"trade\"][\"symbol\"])\n",
    "        symbols.add(match.group(0))\n",
    "    elif transaction.get(\"option\"):\n",
    "        match = re.match(symbol_pattern, transaction[\"option\"][\"description\"])\n",
    "        symbols.add(match.group(0))"
   ]
  },
  {
   "cell_type": "markdown",
   "id": "7fcf1904-9bff-4f48-9823-434a336436df",
   "metadata": {},
   "source": [
    "#### Build API Request Data"
   ]
  },
  {
   "cell_type": "code",
   "execution_count": null,
   "id": "602a5d12-299b-4435-89a5-2374614aaf41",
   "metadata": {},
   "outputs": [],
   "source": [
    "# Fragment of lookup symbol endpoint.\n",
    "endpoint = \"/markets/lookup\"\n",
    "\n",
    "# Request data with url and headers for each request.\n",
    "request_data: dict[str, dict[str, Any]] = {}\n",
    "for symbol in symbols:\n",
    "    request_data[symbol] = {\n",
    "        \"url\": f\"{base_url}{endpoint}\",\n",
    "        \"headers\": headers,\n",
    "        \"params\": {\"q\": symbol},\n",
    "    }"
   ]
  },
  {
   "cell_type": "markdown",
   "id": "752c8349-80ef-4ae8-9660-391618c01751",
   "metadata": {},
   "source": [
    "#### Request Data from API"
   ]
  },
  {
   "cell_type": "code",
   "execution_count": null,
   "id": "1affaf8a-6408-4d7e-a3fe-07414bf7cd2e",
   "metadata": {},
   "outputs": [],
   "source": [
    "symbol_descriptions = {}\n",
    "for symbol, request in request_data.items():\n",
    "    response = httpx.get(**request)\n",
    "    security = response.json()[\"securities\"][\"security\"]\n",
    "    if isinstance(security, list):\n",
    "        for element in security:\n",
    "            if element[\"symbol\"] == symbol:\n",
    "                symbol_descriptions[symbol] = element[\"description\"]\n",
    "            break\n",
    "    else:\n",
    "        symbol_descriptions[symbol] = security[\"description\"]"
   ]
  },
  {
   "cell_type": "markdown",
   "id": "34bcdc88-822b-4a66-859c-1f706e113545",
   "metadata": {},
   "source": [
    "#### Write Descriptions to File"
   ]
  },
  {
   "cell_type": "code",
   "execution_count": null,
   "id": "7ab737e6-3116-46d1-bc0a-96cda5b5c2ba",
   "metadata": {},
   "outputs": [],
   "source": [
    "# location of the output JSON file.\n",
    "file_path = data_dir.joinpath(\"symbol_descriptions.json\")\n",
    "with open(file_path, \"w\") as f:\n",
    "    json.dump(symbol_descriptions, f)"
   ]
  },
  {
   "cell_type": "markdown",
   "id": "9994c610-8b8c-45bd-a94f-38c6939ebab6",
   "metadata": {},
   "source": [
    "## Market Endpoints\n",
    "### Build API Request Data"
   ]
  },
  {
   "cell_type": "code",
   "execution_count": null,
   "id": "e5204185-5660-40d7-8526-14188f6e84b2",
   "metadata": {},
   "outputs": [],
   "source": [
    "# Fragments of account endpoints.\n",
    "endpoint_fragments = {\n",
    "    \"historical_quotes\": \"/markets/history\",\n",
    "}\n",
    "\n",
    "# Request data with url and headers for each request.\n",
    "request_data = {}\n",
    "for endpoint_name, endpoint in endpoint_fragments.items():\n",
    "    request_data[endpoint_name] = {\n",
    "        \"url\": f\"{base_url}{endpoint}\",\n",
    "        \"headers\": headers,\n",
    "    }\n",
    "# Add any parameters if necessary.\n",
    "request_data[\"historical_quotes\"][\"params\"] = {\"symbol\": \"AAPL\"}"
   ]
  },
  {
   "cell_type": "markdown",
   "id": "c30d30db-140a-4b2d-a817-5b01d12a3aa1",
   "metadata": {},
   "source": [
    "#### Request Data from API"
   ]
  },
  {
   "cell_type": "code",
   "execution_count": null,
   "id": "286d9676-dfd2-4297-94f5-332449949714",
   "metadata": {},
   "outputs": [],
   "source": [
    "for endpoint_name, request in request_data.items():\n",
    "    response = httpx.get(**request)\n",
    "    write_api_data(endpoint_name, response, data_dir)"
   ]
  }
 ],
 "metadata": {
  "kernelspec": {
   "display_name": "invest",
   "language": "python",
   "name": "invest"
  },
  "language_info": {
   "codemirror_mode": {
    "name": "ipython",
    "version": 3
   },
   "file_extension": ".py",
   "mimetype": "text/x-python",
   "name": "python",
   "nbconvert_exporter": "python",
   "pygments_lexer": "ipython3",
   "version": "3.11.5"
  }
 },
 "nbformat": 4,
 "nbformat_minor": 5
}
